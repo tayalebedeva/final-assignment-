{
 "cells": [
  {
   "cell_type": "markdown",
   "metadata": {},
   "source": []
  },
  {
   "cell_type": "markdown",
   "metadata": {
    "pycharm": {
     "name": "#%% md\n"
    }
   },
   "source": [
    "#  Перед вами набор данных с описаниями химических свойств стекла\n",
    "\n",
    "Взять его можно вот тут: https://gist.github.com/hydrophis-spiralis/8899e6a3b49deeb2440c42adeb1fc18e\n",
    "\n",
    "Столбцы кроме последнего - нюансы химического состава.\n",
    "Последний столбец Type - тип стекла."
   ]
  },
  {
   "cell_type": "code",
   "execution_count": 1,
   "metadata": {
    "pycharm": {
     "name": "#%%\n"
    }
   },
   "outputs": [],
   "source": [
    "import pandas as pd\n",
    "import numpy as np\n",
    "df = pd.read_csv('glass.csv')"
   ]
  },
  {
   "cell_type": "markdown",
   "metadata": {
    "pycharm": {
     "name": "#%% md\n"
    }
   },
   "source": [
    "# 1. Сколько образцов разных видов стекла в таблице?"
   ]
  },
  {
   "cell_type": "code",
   "execution_count": 3,
   "metadata": {
    "pycharm": {
     "name": "#%%\n"
    }
   },
   "outputs": [
    {
     "name": "stdout",
     "output_type": "stream",
     "text": [
      "buildingwindowsnonfloatprocessed    76\n",
      "buildingwindowsfloatprocessed       70\n",
      "headlamps                           29\n",
      "vehiclewindowsfloatprocessed        17\n",
      "containers                          13\n",
      "tableware                            9\n",
      "Name: Type, dtype: int64\n"
     ]
    }
   ],
   "source": [
    "q = df['Type'].value_counts()\n",
    "print(q)"
   ]
  },
  {
   "cell_type": "markdown",
   "metadata": {
    "pycharm": {
     "name": "#%% md\n"
    }
   },
   "source": [
    "# 2. Найдите средние значения химических параметров для каждого типа стекла"
   ]
  },
  {
   "cell_type": "code",
   "execution_count": 4,
   "metadata": {
    "pycharm": {
     "name": "#%%\n"
    }
   },
   "outputs": [
    {
     "name": "stdout",
     "output_type": "stream",
     "text": [
      "                                        RI         Na        Mg        Al  \\\n",
      "Type                                                                        \n",
      "buildingwindowsfloatprocessed     1.518718  13.242286  3.552429  1.163857   \n",
      "buildingwindowsnonfloatprocessed  1.518619  13.111711  3.002105  1.408158   \n",
      "containers                        1.518928  12.827692  0.773846  2.033846   \n",
      "headlamps                         1.517116  14.442069  0.538276  2.122759   \n",
      "tableware                         1.517456  14.646667  1.305556  1.366667   \n",
      "vehiclewindowsfloatprocessed      1.517964  13.437059  3.543529  1.201176   \n",
      "\n",
      "                                         Si         K         Ca        Ba  \\\n",
      "Type                                                                         \n",
      "buildingwindowsfloatprocessed     72.619143  0.447429   8.797286  0.012714   \n",
      "buildingwindowsnonfloatprocessed  72.598026  0.521053   9.073684  0.050263   \n",
      "containers                        72.366154  1.470000  10.123846  0.187692   \n",
      "headlamps                         72.965862  0.325172   8.491379  1.040000   \n",
      "tableware                         73.206667  0.000000   9.356667  0.000000   \n",
      "vehiclewindowsfloatprocessed      72.404706  0.406471   8.782941  0.008824   \n",
      "\n",
      "                                        Fe  vehicle  building  \n",
      "Type                                                           \n",
      "buildingwindowsfloatprocessed     0.057000        0         1  \n",
      "buildingwindowsnonfloatprocessed  0.079737        0         1  \n",
      "containers                        0.060769        0         0  \n",
      "headlamps                         0.013448        0         0  \n",
      "tableware                         0.000000        0         0  \n",
      "vehiclewindowsfloatprocessed      0.057059        1         0  \n"
     ]
    }
   ],
   "source": [
    "df.groupby('Type').mean()\n",
    "print(df.groupby('Type').mean())"
   ]
  },
  {
   "cell_type": "markdown",
   "metadata": {
    "pycharm": {
     "name": "#%% md\n"
    }
   },
   "source": [
    "# 3. Найдите максимальную разницу между содержанием Si разных типов стекла. Постройте квадратную таблицу, в которой столбцы и строки - типы стекла, а в ячейках будут находиться значения абсолютной разницы."
   ]
  },
  {
   "cell_type": "code",
   "execution_count": 5,
   "metadata": {
    "pycharm": {
     "name": "#%%\n"
    }
   },
   "outputs": [
    {
     "name": "stdout",
     "output_type": "stream",
     "text": [
      "Type\n",
      "buildingwindowsfloatprocessed       2.35\n",
      "buildingwindowsnonfloatprocessed    4.64\n",
      "containers                          3.99\n",
      "headlamps                           4.92\n",
      "tableware                           3.04\n",
      "vehiclewindowsfloatprocessed        1.65\n",
      "Name: Si, dtype: float64\n",
      "                           Type_new  Si_difference\n",
      "0     buildingwindowsfloatprocessed           2.35\n",
      "1  buildingwindowsnonfloatprocessed           4.64\n",
      "2                        containers           3.99\n",
      "3                         headlamps           4.92\n",
      "4                         tableware           3.04\n",
      "5       ehiclewindowsfloatprocessed           1.65\n"
     ]
    }
   ],
   "source": [
    "x = df.groupby('Type').max().Si\n",
    "y = df.groupby('Type').min().Si\n",
    "print(x-y)\n",
    "\n",
    "df1 = pd.DataFrame([['buildingwindowsfloatprocessed', 2.35],\n",
    "                    ['buildingwindowsnonfloatprocessed', 4.64],\n",
    "                    ['containers', 3.99],\n",
    "                    ['headlamps', 4.92],\n",
    "                    ['tableware', 3.04],\n",
    "                    ['ehiclewindowsfloatprocessed', 1.65]],\n",
    "                    columns = ['Type_new','Si_difference'])\n",
    "print(df1)"
   ]
  },
  {
   "cell_type": "markdown",
   "metadata": {
    "pycharm": {
     "name": "#%% md\n"
    }
   },
   "source": [
    "# 4. Как часто Барий(Ba) используется(>0) вместе с Магнием(Mg)(>0)?"
   ]
  },
  {
   "cell_type": "code",
   "execution_count": 6,
   "metadata": {
    "pycharm": {
     "name": "#%%\n"
    }
   },
   "outputs": [
    {
     "name": "stdout",
     "output_type": "stream",
     "text": [
      "Барий используется вместе с магнием: 15\n"
     ]
    }
   ],
   "source": [
    "z = df[(df['Ba'] > 0) & (df['Mg'] > 0)]\n",
    "print('Барий используется вместе с магнием:', len(z))"
   ]
  },
  {
   "cell_type": "markdown",
   "metadata": {
    "pycharm": {
     "name": "#%% md\n"
    }
   },
   "source": [
    "# 5. Правда ли, что в стекле, которое используют для посуды(tableware), в среднем меньше кальция(Ca), чем в стекле для окон(Тип начинается с building window)?"
   ]
  },
  {
   "cell_type": "code",
   "execution_count": 7,
   "metadata": {
    "pycharm": {
     "name": "#%%\n"
    }
   },
   "outputs": [
    {
     "name": "stdout",
     "output_type": "stream",
     "text": [
      "Кальция больше в\n",
      "Tableware\n"
     ]
    }
   ],
   "source": [
    "t = df[df['Type'] == 'tableware']\n",
    "w = pd.concat([df[df['Type'] == 'buildingwindowsfloatprocessed'], df[df['Type'] == 'buildingwindowsnonfloatprocessed']], ignore_index=True)\n",
    "if t['Ca'].mean()>w['Ca'].mean():\n",
    "    print('Кальция больше в')\n",
    "    print('Tableware')\n",
    "else:\n",
    "    print('Windows')"
   ]
  },
  {
   "cell_type": "markdown",
   "metadata": {
    "pycharm": {
     "name": "#%% md\n"
    }
   },
   "source": [
    "# 6. Ri - Refractive index - коэффициент преломления. Расположите другие химические параметры по убыванию корреляции с Ri. Попробуйте корреляции Пирсона и Спирмена."
   ]
  },
  {
   "cell_type": "code",
   "execution_count": 8,
   "metadata": {
    "pycharm": {
     "name": "#%%\n"
    }
   },
   "outputs": [
    {
     "name": "stdout",
     "output_type": "stream",
     "text": [
      "Корреляция RI и химических параметров поубыванию: [0.810402696340087, 0.14300960927754583, -0.00038601891220849013, -0.12227403932819374, -0.19188537903890265, -0.28983271114396114, -0.40732603408139234, -0.5420521997085236]\n"
     ]
    }
   ],
   "source": [
    "n = df['RI'].corr(df['Na'])\n",
    "m = df['RI'].corr(df['Mg'])\n",
    "a = df['RI'].corr(df['Al'])\n",
    "s = df['RI'].corr(df['Si'])\n",
    "k = df['RI'].corr(df['K'])\n",
    "c = df['RI'].corr(df['Ca'])\n",
    "b = df['RI'].corr(df['Ba'])\n",
    "f = df['RI'].corr(df['Fe'])\n",
    "correlation = [n, m, a, s, k, c, b, f]\n",
    "correlation.sort(reverse = True)\n",
    "print('Корреляция RI и химических параметров поубыванию:', correlation)"
   ]
  },
  {
   "cell_type": "markdown",
   "metadata": {
    "pycharm": {
     "name": "#%% md\n"
    }
   },
   "source": [
    "# 7. Сколько образцов одновременно имеют Ri и Na больше медианной?"
   ]
  },
  {
   "cell_type": "code",
   "execution_count": 9,
   "metadata": {
    "pycharm": {
     "name": "#%%\n"
    }
   },
   "outputs": [
    {
     "name": "stdout",
     "output_type": "stream",
     "text": [
      "количество образцов одновременно: 61\n"
     ]
    }
   ],
   "source": [
    "RIM = df['RI'].median()\n",
    "NaM = df['Na'].median()\n",
    "med = df[(df['RI'] > RIM) & (df['Na'] > NaM)]\n",
    "\n",
    "print('количество образцов одновременно:', len(med))"
   ]
  },
  {
   "cell_type": "markdown",
   "metadata": {
    "pycharm": {
     "name": "#%% md\n"
    }
   },
   "source": [
    "# 8. Разделите типы стекол windows по подтипам, каждый отдельный подтип вынесите в отдельную колонку в виде индикатора. Например, если в столбце Type есть building, то добавить столбец building и для таких значений поставить 1, в иных случаях - 0."
   ]
  },
  {
   "cell_type": "code",
   "execution_count": 2,
   "metadata": {
    "pycharm": {
     "name": "#%%\n"
    }
   },
   "outputs": [
    {
     "name": "stdout",
     "output_type": "stream",
     "text": [
      "          RI     Na    Mg    Al     Si     K    Ca    Ba   Fe  \\\n",
      "0    1.52101  13.64  4.49  1.10  71.78  0.06  8.75  0.00  0.0   \n",
      "1    1.51761  13.89  3.60  1.36  72.73  0.48  7.83  0.00  0.0   \n",
      "2    1.51618  13.53  3.55  1.54  72.99  0.39  7.78  0.00  0.0   \n",
      "3    1.51766  13.21  3.69  1.29  72.61  0.57  8.22  0.00  0.0   \n",
      "4    1.51742  13.27  3.62  1.24  73.08  0.55  8.07  0.00  0.0   \n",
      "..       ...    ...   ...   ...    ...   ...   ...   ...  ...   \n",
      "209  1.51623  14.14  0.00  2.88  72.61  0.08  9.18  1.06  0.0   \n",
      "210  1.51685  14.92  0.00  1.99  73.06  0.00  8.40  1.59  0.0   \n",
      "211  1.52065  14.36  0.00  2.02  73.42  0.00  8.44  1.64  0.0   \n",
      "212  1.51651  14.38  0.00  1.94  73.61  0.00  8.48  1.57  0.0   \n",
      "213  1.51711  14.23  0.00  2.08  73.36  0.00  8.62  1.67  0.0   \n",
      "\n",
      "                              Type  vehicle  building  \n",
      "0    buildingwindowsfloatprocessed        0         1  \n",
      "1    buildingwindowsfloatprocessed        0         1  \n",
      "2    buildingwindowsfloatprocessed        0         1  \n",
      "3    buildingwindowsfloatprocessed        0         1  \n",
      "4    buildingwindowsfloatprocessed        0         1  \n",
      "..                             ...      ...       ...  \n",
      "209                      headlamps        0         0  \n",
      "210                      headlamps        0         0  \n",
      "211                      headlamps        0         0  \n",
      "212                      headlamps        0         0  \n",
      "213                      headlamps        0         0  \n",
      "\n",
      "[214 rows x 12 columns]\n"
     ]
    }
   ],
   "source": [
    "df.loc[:, 'vehicle'] = 0\n",
    "df.loc[:, 'building'] = 0\n",
    "for i in range(len(df)):\n",
    "    if df.Type[i] == 'vehiclewindowsfloatprocessed':\n",
    "        df.loc[i, 'vehicle'] = 1\n",
    "    if df.Type[i] == 'buildingwindowsfloatprocessed' or df.Type[i] == 'buildingwindowsnonfloatprocessed':\n",
    "        df.loc[i, 'building'] = 1\n",
    "print(df)"
   ]
  },
  {
   "cell_type": "markdown",
   "metadata": {
    "pycharm": {
     "name": "#%% md\n"
    }
   },
   "source": [
    "# 9. Применив метод ближайшего соседа построить классификаторы типов стекла, в котором признаки - химические признаки, а предсказываемая переменная - типы стекол по стобцам из вопроса №8."
   ]
  },
  {
   "cell_type": "code",
   "execution_count": null,
   "metadata": {
    "pycharm": {
     "name": "#%%\n"
    }
   },
   "outputs": [],
   "source": []
  }
 ],
 "metadata": {
  "kernelspec": {
   "display_name": "Python 3",
   "language": "python",
   "name": "python3"
  },
  "language_info": {
   "codemirror_mode": {
    "name": "ipython",
    "version": 3
   },
   "file_extension": ".py",
   "mimetype": "text/x-python",
   "name": "python",
   "nbconvert_exporter": "python",
   "pygments_lexer": "ipython3",
   "version": "3.8.5"
  }
 },
 "nbformat": 4,
 "nbformat_minor": 1
}
